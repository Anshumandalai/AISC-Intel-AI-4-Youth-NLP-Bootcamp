{
 "cells": [
  {
   "cell_type": "markdown",
   "metadata": {},
   "source": [
    "# Build a Chatbot with Neural Network "
   ]
  },
  {
   "cell_type": "markdown",
   "metadata": {},
   "source": [
    "We've discovered how to build a chatbot with cosine similarity. Now, let's explore how we might build one with neural network!\n",
    "\n",
    "We will create our training data, train a neural network with them, then use the trained model to make our chatbot. \n",
    "\n",
    "First, we will install required libraries. Uncomment the few blocks below only if you do not have the libraries installed. "
   ]
  },
  {
   "cell_type": "code",
   "execution_count": null,
   "metadata": {},
   "outputs": [],
   "source": [
    "#!pip install numpy scipy\n",
    "#!pip install scikit-learn\n",
    "#!pip install pillow\n",
    "#!pip install h5py"
   ]
  },
  {
   "cell_type": "code",
   "execution_count": null,
   "metadata": {
    "scrolled": true
   },
   "outputs": [],
   "source": [
    "#!pip install tensorflow"
   ]
  },
  {
   "cell_type": "code",
   "execution_count": null,
   "metadata": {},
   "outputs": [],
   "source": [
    "#!pip install tensorflow-gpu"
   ]
  },
  {
   "cell_type": "code",
   "execution_count": null,
   "metadata": {},
   "outputs": [],
   "source": [
    "#!pip install keras"
   ]
  },
  {
   "cell_type": "markdown",
   "metadata": {},
   "source": [
    "# 1. Install Libraries\n",
    "\n",
    "Firstly, we will install libraries needed for this neural network powered chatbot. \n",
    "Keras is a machine learning library which utilizes tensorflow (another lower level machine learning library) at the backend. This makes it easier for us to deploy deep neural network for this purpose. "
   ]
  },
  {
   "cell_type": "code",
   "execution_count": 1,
   "metadata": {},
   "outputs": [
    {
     "name": "stderr",
     "output_type": "stream",
     "text": [
      "Using TensorFlow backend.\n"
     ]
    }
   ],
   "source": [
    "from keras.models import Sequential\n",
    "from keras.losses import categorical_crossentropy\n",
    "from keras.optimizers import SGD\n",
    "from keras.layers import Dense\n",
    " \n",
    "from numpy import argmax\n",
    "import numpy as np\n",
    "import re"
   ]
  },
  {
   "cell_type": "markdown",
   "metadata": {},
   "source": [
    "# 2. Input training data\n",
    "\n",
    "We will first include the following training data for our chatbot:\n",
    "1. X represent the different possible inputs that users might enter\n",
    "2. Y represent the intent of the inputs"
   ]
  },
  {
   "cell_type": "code",
   "execution_count": 5,
   "metadata": {},
   "outputs": [],
   "source": [
    "X = ['Hi',\n",
    "     'Hello',\n",
    "     'How are you?',\n",
    "     'I am making',\n",
    "     'making',\n",
    "     'working',\n",
    "     'studying',\n",
    "     'see you later',\n",
    "     'bye',\n",
    "     'goodbye']"
   ]
  },
  {
   "cell_type": "code",
   "execution_count": 6,
   "metadata": {},
   "outputs": [
    {
     "name": "stdout",
     "output_type": "stream",
     "text": [
      "10\n"
     ]
    }
   ],
   "source": [
    "print(len(X))"
   ]
  },
  {
   "cell_type": "code",
   "execution_count": 7,
   "metadata": {},
   "outputs": [],
   "source": [
    "Y = ['greeting',\n",
    "     'greeting',\n",
    "     'greeting',\n",
    "     'busy',\n",
    "     'busy',\n",
    "     'busy',\n",
    "     'busy',\n",
    "     'bye',\n",
    "     'bye',\n",
    "     'bye']"
   ]
  },
  {
   "cell_type": "code",
   "execution_count": 8,
   "metadata": {},
   "outputs": [
    {
     "name": "stdout",
     "output_type": "stream",
     "text": [
      "10\n"
     ]
    }
   ],
   "source": [
    "print(len(Y))"
   ]
  },
  {
   "cell_type": "markdown",
   "metadata": {},
   "source": [
    "Notice that there are several different sentences that have similar intent. Here, we are only having 3 intents, but you can add as many as you want for your project!"
   ]
  },
  {
   "cell_type": "markdown",
   "metadata": {},
   "source": [
    "This is the way our chatbot will work:\n",
    "1. From the input sentence, we will identify the intent using our trained AI model.\n",
    "2. For each intent, we have a prepared response. \n",
    "\n",
    "For example, if we identify that the intent of the input is for a greeting, we might ask the chatbot to reply with a greeting as well, something like 'hi' or 'how are you doing?'\n",
    "\n",
    "We will use machine learning to create a model that can classify input sentence into different intents. \n",
    "We make it as follows:\n",
    "\n",
    "1. We create a training data (X and Y above) which contains a list of sentences and their intents.\n",
    "2. Use the training data to train a classifier. \n",
    "3. Vectorize input sentences and use classifier to determine intent. "
   ]
  },
  {
   "cell_type": "markdown",
   "metadata": {},
   "source": [
    "# 3. Text processing\n",
    "\n",
    "As usual, we will start with text processing. Do you remember the process?\n",
    "\n",
    "## 3.1 Remove non alphanumeric characters"
   ]
  },
  {
   "cell_type": "code",
   "execution_count": 10,
   "metadata": {},
   "outputs": [],
   "source": [
    "def remove_non_alpha_numeric_characters(sentence):\n",
    "    new_sentence = ''\n",
    "    for alphabet in sentence:\n",
    "        if alphabet.isalpha() or alphabet == ' ':\n",
    "            new_sentence += alphabet\n",
    "    return new_sentence"
   ]
  },
  {
   "cell_type": "code",
   "execution_count": 11,
   "metadata": {},
   "outputs": [],
   "source": [
    "def preprocess_data(X):\n",
    "    X = [data_point.lower() for data_point in X]\n",
    "    X = [remove_non_alpha_numeric_characters(\n",
    "        sentence) for sentence in X]\n",
    "    X = [data_point.strip() for data_point in X]\n",
    "    X = [re.sub(' +', ' ',\n",
    "                data_point) for data_point in X]\n",
    "    return X"
   ]
  },
  {
   "cell_type": "code",
   "execution_count": 12,
   "metadata": {},
   "outputs": [],
   "source": [
    "X = preprocess_data(X)\n",
    "\n",
    "vocabulary = set()\n",
    "for data_point in X:\n",
    "    for word in data_point.split(' '):\n",
    "        vocabulary.add(word)\n",
    "\n",
    "vocabulary = list(vocabulary)"
   ]
  },
  {
   "cell_type": "markdown",
   "metadata": {},
   "source": [
    "## Create document vectors"
   ]
  },
  {
   "cell_type": "code",
   "execution_count": 13,
   "metadata": {},
   "outputs": [],
   "source": [
    "X_encoded = []\n",
    "\n",
    "def encode_sentence(sentence):\n",
    "    sentence = preprocess_data([sentence])[0]\n",
    "    sentence_encoded = [0] * len(vocabulary)\n",
    "    for i in range(len(vocabulary)):\n",
    "        if vocabulary[i] in sentence.split(' '):\n",
    "            sentence_encoded[i] = 1\n",
    "    return sentence_encoded\n",
    "\n",
    "X_encoded = [encode_sentence(sentence) for sentence in X]"
   ]
  },
  {
   "cell_type": "code",
   "execution_count": 14,
   "metadata": {},
   "outputs": [],
   "source": [
    "classes = list(set(Y))\n",
    "\n",
    "Y_encoded = []\n",
    "for data_point in Y:\n",
    "    data_point_encoded = [0] * len(classes)\n",
    "    for i in range(len(classes)):\n",
    "        if classes[i] == data_point:\n",
    "            data_point_encoded[i] = 1\n",
    "    Y_encoded.append(data_point_encoded)"
   ]
  },
  {
   "cell_type": "markdown",
   "metadata": {},
   "source": [
    "# 4. Create training data and test data"
   ]
  },
  {
   "cell_type": "code",
   "execution_count": 15,
   "metadata": {},
   "outputs": [],
   "source": [
    "X_train = X_encoded\n",
    "y_train = Y_encoded\n",
    "X_test = X_encoded\n",
    "y_test = Y_encoded"
   ]
  },
  {
   "cell_type": "markdown",
   "metadata": {},
   "source": [
    "Print and check the data you are using for training and test data"
   ]
  },
  {
   "cell_type": "code",
   "execution_count": 16,
   "metadata": {},
   "outputs": [
    {
     "name": "stdout",
     "output_type": "stream",
     "text": [
      "[[0, 0, 1], [0, 0, 1], [0, 0, 1], [1, 0, 0], [1, 0, 0], [1, 0, 0], [1, 0, 0], [0, 1, 0], [0, 1, 0], [0, 1, 0]]\n"
     ]
    }
   ],
   "source": [
    "print (y_test)"
   ]
  },
  {
   "cell_type": "code",
   "execution_count": 17,
   "metadata": {},
   "outputs": [
    {
     "name": "stdout",
     "output_type": "stream",
     "text": [
      "10\n"
     ]
    }
   ],
   "source": [
    "print(len(X_train))"
   ]
  },
  {
   "cell_type": "code",
   "execution_count": 18,
   "metadata": {
    "scrolled": true
   },
   "outputs": [
    {
     "data": {
      "text/plain": [
       "[[0, 0, 1],\n",
       " [0, 0, 1],\n",
       " [0, 0, 1],\n",
       " [1, 0, 0],\n",
       " [1, 0, 0],\n",
       " [1, 0, 0],\n",
       " [1, 0, 0],\n",
       " [0, 1, 0],\n",
       " [0, 1, 0],\n",
       " [0, 1, 0]]"
      ]
     },
     "execution_count": 18,
     "metadata": {},
     "output_type": "execute_result"
    }
   ],
   "source": [
    "y_train"
   ]
  },
  {
   "cell_type": "markdown",
   "metadata": {},
   "source": [
    "What does y_train represent? Do you understand the array shown above?"
   ]
  },
  {
   "cell_type": "markdown",
   "metadata": {},
   "source": [
    "# 5. Model training"
   ]
  },
  {
   "cell_type": "markdown",
   "metadata": {},
   "source": [
    "Now we will use the training data to train our neural network."
   ]
  },
  {
   "cell_type": "code",
   "execution_count": 19,
   "metadata": {},
   "outputs": [
    {
     "name": "stdout",
     "output_type": "stream",
     "text": [
      "Epoch 1/100\n",
      "10/10 [==============================] - 0s 12ms/step - loss: 1.4842\n",
      "Epoch 2/100\n",
      "10/10 [==============================] - 0s 97us/step - loss: 1.4063\n",
      "Epoch 3/100\n",
      "10/10 [==============================] - 0s 201us/step - loss: 1.3163\n",
      "Epoch 4/100\n",
      "10/10 [==============================] - 0s 100us/step - loss: 1.2317\n",
      "Epoch 5/100\n",
      "10/10 [==============================] - 0s 199us/step - loss: 1.1646\n",
      "Epoch 6/100\n",
      "10/10 [==============================] - 0s 200us/step - loss: 1.1191\n",
      "Epoch 7/100\n",
      "10/10 [==============================] - 0s 298us/step - loss: 1.0932\n",
      "Epoch 8/100\n",
      "10/10 [==============================] - 0s 199us/step - loss: 1.0824\n",
      "Epoch 9/100\n",
      "10/10 [==============================] - 0s 200us/step - loss: 1.0816\n",
      "Epoch 10/100\n",
      "10/10 [==============================] - 0s 300us/step - loss: 1.0867\n",
      "Epoch 11/100\n",
      "10/10 [==============================] - 0s 199us/step - loss: 1.0942\n",
      "Epoch 12/100\n",
      "10/10 [==============================] - 0s 301us/step - loss: 1.1011\n",
      "Epoch 13/100\n",
      "10/10 [==============================] - 0s 98us/step - loss: 1.1053\n",
      "Epoch 14/100\n",
      "10/10 [==============================] - 0s 100us/step - loss: 1.1056\n",
      "Epoch 15/100\n",
      "10/10 [==============================] - 0s 199us/step - loss: 1.1016\n",
      "Epoch 16/100\n",
      "10/10 [==============================] - 0s 197us/step - loss: 1.0941\n",
      "Epoch 17/100\n",
      "10/10 [==============================] - 0s 300us/step - loss: 1.0841\n",
      "Epoch 18/100\n",
      "10/10 [==============================] - 0s 99us/step - loss: 1.0733\n",
      "Epoch 19/100\n",
      "10/10 [==============================] - 0s 100us/step - loss: 1.0630\n",
      "Epoch 20/100\n",
      "10/10 [==============================] - 0s 299us/step - loss: 1.0544\n",
      "Epoch 21/100\n",
      "10/10 [==============================] - 0s 100us/step - loss: 1.0478\n",
      "Epoch 22/100\n",
      "10/10 [==============================] - 0s 200us/step - loss: 1.0434\n",
      "Epoch 23/100\n",
      "10/10 [==============================] - 0s 200us/step - loss: 1.0408\n",
      "Epoch 24/100\n",
      "10/10 [==============================] - 0s 100us/step - loss: 1.0394\n",
      "Epoch 25/100\n",
      "10/10 [==============================] - 0s 100us/step - loss: 1.0385\n",
      "Epoch 26/100\n",
      "10/10 [==============================] - 0s 199us/step - loss: 1.0375\n",
      "Epoch 27/100\n",
      "10/10 [==============================] - 0s 100us/step - loss: 1.0361\n",
      "Epoch 28/100\n",
      "10/10 [==============================] - 0s 400us/step - loss: 1.0342\n",
      "Epoch 29/100\n",
      "10/10 [==============================] - 0s 199us/step - loss: 1.0316\n",
      "Epoch 30/100\n",
      "10/10 [==============================] - 0s 199us/step - loss: 1.0287\n",
      "Epoch 31/100\n",
      "10/10 [==============================] - 0s 299us/step - loss: 1.0254\n",
      "Epoch 32/100\n",
      "10/10 [==============================] - 0s 199us/step - loss: 1.0221\n",
      "Epoch 33/100\n",
      "10/10 [==============================] - 0s 200us/step - loss: 1.0189\n",
      "Epoch 34/100\n",
      "10/10 [==============================] - 0s 299us/step - loss: 1.0159\n",
      "Epoch 35/100\n",
      "10/10 [==============================] - 0s 100us/step - loss: 1.0130\n",
      "Epoch 36/100\n",
      "10/10 [==============================] - 0s 199us/step - loss: 1.0104\n",
      "Epoch 37/100\n",
      "10/10 [==============================] - 0s 199us/step - loss: 1.0080\n",
      "Epoch 38/100\n",
      "10/10 [==============================] - 0s 100us/step - loss: 1.0057\n",
      "Epoch 39/100\n",
      "10/10 [==============================] - 0s 100us/step - loss: 1.0035\n",
      "Epoch 40/100\n",
      "10/10 [==============================] - 0s 399us/step - loss: 1.0012\n",
      "Epoch 41/100\n",
      "10/10 [==============================] - 0s 200us/step - loss: 0.9990\n",
      "Epoch 42/100\n",
      "10/10 [==============================] - 0s 100us/step - loss: 0.9966\n",
      "Epoch 43/100\n",
      "10/10 [==============================] - 0s 399us/step - loss: 0.9942\n",
      "Epoch 44/100\n",
      "10/10 [==============================] - 0s 100us/step - loss: 0.9918\n",
      "Epoch 45/100\n",
      "10/10 [==============================] - 0s 100us/step - loss: 0.9893\n",
      "Epoch 46/100\n",
      "10/10 [==============================] - 0s 100us/step - loss: 0.9868\n",
      "Epoch 47/100\n",
      "10/10 [==============================] - 0s 199us/step - loss: 0.9843\n",
      "Epoch 48/100\n",
      "10/10 [==============================] - 0s 100us/step - loss: 0.9819\n",
      "Epoch 49/100\n",
      "10/10 [==============================] - 0s 200us/step - loss: 0.9794\n",
      "Epoch 50/100\n",
      "10/10 [==============================] - 0s 99us/step - loss: 0.9770\n",
      "Epoch 51/100\n",
      "10/10 [==============================] - 0s 199us/step - loss: 0.9746\n",
      "Epoch 52/100\n",
      "10/10 [==============================] - 0s 200us/step - loss: 0.9722\n",
      "Epoch 53/100\n",
      "10/10 [==============================] - 0s 100us/step - loss: 0.9698\n",
      "Epoch 54/100\n",
      "10/10 [==============================] - 0s 299us/step - loss: 0.9674\n",
      "Epoch 55/100\n",
      "10/10 [==============================] - 0s 199us/step - loss: 0.9651\n",
      "Epoch 56/100\n",
      "10/10 [==============================] - 0s 100us/step - loss: 0.9627\n",
      "Epoch 57/100\n",
      "10/10 [==============================] - 0s 200us/step - loss: 0.9603\n",
      "Epoch 58/100\n",
      "10/10 [==============================] - 0s 100us/step - loss: 0.9578\n",
      "Epoch 59/100\n",
      "10/10 [==============================] - 0s 199us/step - loss: 0.9554\n",
      "Epoch 60/100\n",
      "10/10 [==============================] - 0s 199us/step - loss: 0.9530\n",
      "Epoch 61/100\n",
      "10/10 [==============================] - 0s 199us/step - loss: 0.9506\n",
      "Epoch 62/100\n",
      "10/10 [==============================] - 0s 200us/step - loss: 0.9481\n",
      "Epoch 63/100\n",
      "10/10 [==============================] - 0s 99us/step - loss: 0.9457\n",
      "Epoch 64/100\n",
      "10/10 [==============================] - 0s 100us/step - loss: 0.9433\n",
      "Epoch 65/100\n",
      "10/10 [==============================] - 0s 300us/step - loss: 0.9409\n",
      "Epoch 66/100\n",
      "10/10 [==============================] - 0s 399us/step - loss: 0.9384\n",
      "Epoch 67/100\n",
      "10/10 [==============================] - 0s 199us/step - loss: 0.9360\n",
      "Epoch 68/100\n",
      "10/10 [==============================] - 0s 199us/step - loss: 0.9336\n",
      "Epoch 69/100\n",
      "10/10 [==============================] - 0s 200us/step - loss: 0.9312\n",
      "Epoch 70/100\n",
      "10/10 [==============================] - 0s 199us/step - loss: 0.9287\n",
      "Epoch 71/100\n",
      "10/10 [==============================] - 0s 300us/step - loss: 0.9263\n",
      "Epoch 72/100\n",
      "10/10 [==============================] - 0s 100us/step - loss: 0.9238\n",
      "Epoch 73/100\n",
      "10/10 [==============================] - 0s 100us/step - loss: 0.9214\n",
      "Epoch 74/100\n",
      "10/10 [==============================] - 0s 199us/step - loss: 0.9189\n",
      "Epoch 75/100\n",
      "10/10 [==============================] - 0s 301us/step - loss: 0.9165\n",
      "Epoch 76/100\n",
      "10/10 [==============================] - 0s 198us/step - loss: 0.9140\n",
      "Epoch 77/100\n",
      "10/10 [==============================] - 0s 198us/step - loss: 0.9116\n",
      "Epoch 78/100\n",
      "10/10 [==============================] - 0s 200us/step - loss: 0.9091\n",
      "Epoch 79/100\n",
      "10/10 [==============================] - 0s 199us/step - loss: 0.9066\n",
      "Epoch 80/100\n",
      "10/10 [==============================] - 0s 199us/step - loss: 0.9042\n",
      "Epoch 81/100\n",
      "10/10 [==============================] - 0s 299us/step - loss: 0.9017\n",
      "Epoch 82/100\n",
      "10/10 [==============================] - 0s 100us/step - loss: 0.8992\n",
      "Epoch 83/100\n",
      "10/10 [==============================] - 0s 201us/step - loss: 0.8967\n",
      "Epoch 84/100\n",
      "10/10 [==============================] - 0s 199us/step - loss: 0.8943\n",
      "Epoch 85/100\n",
      "10/10 [==============================] - 0s 100us/step - loss: 0.8918\n",
      "Epoch 86/100\n",
      "10/10 [==============================] - 0s 100us/step - loss: 0.8893\n",
      "Epoch 87/100\n",
      "10/10 [==============================] - 0s 300us/step - loss: 0.8868\n",
      "Epoch 88/100\n",
      "10/10 [==============================] - 0s 198us/step - loss: 0.8843\n",
      "Epoch 89/100\n",
      "10/10 [==============================] - 0s 100us/step - loss: 0.8818\n",
      "Epoch 90/100\n",
      "10/10 [==============================] - 0s 99us/step - loss: 0.8793\n",
      "Epoch 91/100\n",
      "10/10 [==============================] - 0s 200us/step - loss: 0.8768\n",
      "Epoch 92/100\n",
      "10/10 [==============================] - 0s 200us/step - loss: 0.8743\n",
      "Epoch 93/100\n",
      "10/10 [==============================] - 0s 300us/step - loss: 0.8717\n",
      "Epoch 94/100\n",
      "10/10 [==============================] - 0s 100us/step - loss: 0.8692\n",
      "Epoch 95/100\n",
      "10/10 [==============================] - 0s 100us/step - loss: 0.8667\n",
      "Epoch 96/100\n",
      "10/10 [==============================] - 0s 199us/step - loss: 0.8642\n",
      "Epoch 97/100\n",
      "10/10 [==============================] - 0s 200us/step - loss: 0.8616\n",
      "Epoch 98/100\n",
      "10/10 [==============================] - 0s 299us/step - loss: 0.8591\n",
      "Epoch 99/100\n",
      "10/10 [==============================] - 0s 100us/step - loss: 0.8566\n"
     ]
    },
    {
     "name": "stdout",
     "output_type": "stream",
     "text": [
      "Epoch 100/100\n",
      "10/10 [==============================] - 0s 100us/step - loss: 0.8540\n"
     ]
    },
    {
     "data": {
      "text/plain": [
       "<keras.callbacks.History at 0x27b49960748>"
      ]
     },
     "execution_count": 19,
     "metadata": {},
     "output_type": "execute_result"
    }
   ],
   "source": [
    "model = Sequential()\n",
    "model.add(Dense(units=64, activation='sigmoid',\n",
    "                input_dim=len(X_train[0])))\n",
    "model.add(Dense(units=len(y_train[0]), activation='softmax'))\n",
    "model.compile(loss=categorical_crossentropy,\n",
    "              optimizer=SGD(lr=0.01,\n",
    "                            momentum=0.9, nesterov=True))\n",
    "model.fit(np.array(X_train), np.array(y_train), epochs=100, batch_size=16)"
   ]
  },
  {
   "cell_type": "markdown",
   "metadata": {},
   "source": [
    "## List down predictions"
   ]
  },
  {
   "cell_type": "code",
   "execution_count": 20,
   "metadata": {},
   "outputs": [],
   "source": [
    "predictions = [argmax(pred) for pred in model.predict(np.array(X_test))]"
   ]
  },
  {
   "cell_type": "markdown",
   "metadata": {},
   "source": [
    "# Model Evaluation"
   ]
  },
  {
   "cell_type": "markdown",
   "metadata": {},
   "source": [
    "Let's evaluate our model now. We will compare the prediction made by the model and our test data:"
   ]
  },
  {
   "cell_type": "code",
   "execution_count": 24,
   "metadata": {},
   "outputs": [
    {
     "name": "stdout",
     "output_type": "stream",
     "text": [
      "Correct: 8\n",
      "Total: 10\n"
     ]
    }
   ],
   "source": [
    "correct = 0\n",
    "for i in range(len(predictions)):\n",
    "    if predictions[i] == argmax(y_test[i]):\n",
    "        correct += 1\n",
    "\n",
    "print (\"Correct:\", correct)\n",
    "print (\"Total:\", len(predictions))"
   ]
  },
  {
   "cell_type": "markdown",
   "metadata": {},
   "source": []
  },
  {
   "cell_type": "markdown",
   "metadata": {},
   "source": [
    "# Testing the chatbot"
   ]
  },
  {
   "cell_type": "markdown",
   "metadata": {},
   "source": [
    "Let's test the chatbot now! We will input a sentence, and then see what class is predicted by the neural network:"
   ]
  },
  {
   "cell_type": "code",
   "execution_count": 26,
   "metadata": {
    "scrolled": true
   },
   "outputs": [
    {
     "name": "stdout",
     "output_type": "stream",
     "text": [
      "Enter a sentence\n",
      "bye\n",
      "busy\n",
      "Enter a sentence\n",
      "goodbye\n",
      "bye\n",
      "Enter a sentence\n",
      "bye\n"
     ]
    },
    {
     "ename": "KeyboardInterrupt",
     "evalue": "",
     "output_type": "error",
     "traceback": [
      "\u001b[1;31m---------------------------------------------------------------------------\u001b[0m",
      "\u001b[1;31mKeyboardInterrupt\u001b[0m                         Traceback (most recent call last)",
      "\u001b[1;32mC:\\ProgramData\\Anaconda3\\envs\\data_idp3e\\lib\\site-packages\\ipykernel\\kernelbase.py\u001b[0m in \u001b[0;36m_input_request\u001b[1;34m(self, prompt, ident, parent, password)\u001b[0m\n\u001b[0;32m    729\u001b[0m             \u001b[1;32mtry\u001b[0m\u001b[1;33m:\u001b[0m\u001b[1;33m\u001b[0m\u001b[1;33m\u001b[0m\u001b[0m\n\u001b[1;32m--> 730\u001b[1;33m                 \u001b[0mident\u001b[0m\u001b[1;33m,\u001b[0m \u001b[0mreply\u001b[0m \u001b[1;33m=\u001b[0m \u001b[0mself\u001b[0m\u001b[1;33m.\u001b[0m\u001b[0msession\u001b[0m\u001b[1;33m.\u001b[0m\u001b[0mrecv\u001b[0m\u001b[1;33m(\u001b[0m\u001b[0mself\u001b[0m\u001b[1;33m.\u001b[0m\u001b[0mstdin_socket\u001b[0m\u001b[1;33m,\u001b[0m \u001b[1;36m0\u001b[0m\u001b[1;33m)\u001b[0m\u001b[1;33m\u001b[0m\u001b[1;33m\u001b[0m\u001b[0m\n\u001b[0m\u001b[0;32m    731\u001b[0m             \u001b[1;32mexcept\u001b[0m \u001b[0mException\u001b[0m\u001b[1;33m:\u001b[0m\u001b[1;33m\u001b[0m\u001b[1;33m\u001b[0m\u001b[0m\n",
      "\u001b[1;32mC:\\ProgramData\\Anaconda3\\envs\\data_idp3e\\lib\\site-packages\\jupyter_client\\session.py\u001b[0m in \u001b[0;36mrecv\u001b[1;34m(self, socket, mode, content, copy)\u001b[0m\n\u001b[0;32m    795\u001b[0m         \u001b[1;32mtry\u001b[0m\u001b[1;33m:\u001b[0m\u001b[1;33m\u001b[0m\u001b[1;33m\u001b[0m\u001b[0m\n\u001b[1;32m--> 796\u001b[1;33m             \u001b[0mmsg_list\u001b[0m \u001b[1;33m=\u001b[0m \u001b[0msocket\u001b[0m\u001b[1;33m.\u001b[0m\u001b[0mrecv_multipart\u001b[0m\u001b[1;33m(\u001b[0m\u001b[0mmode\u001b[0m\u001b[1;33m,\u001b[0m \u001b[0mcopy\u001b[0m\u001b[1;33m=\u001b[0m\u001b[0mcopy\u001b[0m\u001b[1;33m)\u001b[0m\u001b[1;33m\u001b[0m\u001b[1;33m\u001b[0m\u001b[0m\n\u001b[0m\u001b[0;32m    797\u001b[0m         \u001b[1;32mexcept\u001b[0m \u001b[0mzmq\u001b[0m\u001b[1;33m.\u001b[0m\u001b[0mZMQError\u001b[0m \u001b[1;32mas\u001b[0m \u001b[0me\u001b[0m\u001b[1;33m:\u001b[0m\u001b[1;33m\u001b[0m\u001b[1;33m\u001b[0m\u001b[0m\n",
      "\u001b[1;32mC:\\ProgramData\\Anaconda3\\envs\\data_idp3e\\lib\\site-packages\\zmq\\sugar\\socket.py\u001b[0m in \u001b[0;36mrecv_multipart\u001b[1;34m(self, flags, copy, track)\u001b[0m\n\u001b[0;32m    394\u001b[0m         \"\"\"\n\u001b[1;32m--> 395\u001b[1;33m         \u001b[0mparts\u001b[0m \u001b[1;33m=\u001b[0m \u001b[1;33m[\u001b[0m\u001b[0mself\u001b[0m\u001b[1;33m.\u001b[0m\u001b[0mrecv\u001b[0m\u001b[1;33m(\u001b[0m\u001b[0mflags\u001b[0m\u001b[1;33m,\u001b[0m \u001b[0mcopy\u001b[0m\u001b[1;33m=\u001b[0m\u001b[0mcopy\u001b[0m\u001b[1;33m,\u001b[0m \u001b[0mtrack\u001b[0m\u001b[1;33m=\u001b[0m\u001b[0mtrack\u001b[0m\u001b[1;33m)\u001b[0m\u001b[1;33m]\u001b[0m\u001b[1;33m\u001b[0m\u001b[1;33m\u001b[0m\u001b[0m\n\u001b[0m\u001b[0;32m    396\u001b[0m         \u001b[1;31m# have first part already, only loop while more to receive\u001b[0m\u001b[1;33m\u001b[0m\u001b[1;33m\u001b[0m\u001b[1;33m\u001b[0m\u001b[0m\n",
      "\u001b[1;32mzmq/backend/cython/socket.pyx\u001b[0m in \u001b[0;36mzmq.backend.cython.socket.Socket.recv (zmq\\backend\\cython\\socket.c:7683)\u001b[1;34m()\u001b[0m\n",
      "\u001b[1;32mzmq/backend/cython/socket.pyx\u001b[0m in \u001b[0;36mzmq.backend.cython.socket.Socket.recv (zmq\\backend\\cython\\socket.c:7460)\u001b[1;34m()\u001b[0m\n",
      "\u001b[1;32mzmq/backend/cython/socket.pyx\u001b[0m in \u001b[0;36mzmq.backend.cython.socket._recv_copy (zmq\\backend\\cython\\socket.c:2344)\u001b[1;34m()\u001b[0m\n",
      "\u001b[1;32mC:\\ProgramData\\Anaconda3\\envs\\data_idp3e\\lib\\site-packages\\zmq\\backend\\cython\\checkrc.pxd\u001b[0m in \u001b[0;36mzmq.backend.cython.checkrc._check_rc (zmq\\backend\\cython\\socket.c:9621)\u001b[1;34m()\u001b[0m\n",
      "\u001b[1;31mKeyboardInterrupt\u001b[0m: ",
      "\nDuring handling of the above exception, another exception occurred:\n",
      "\u001b[1;31mKeyboardInterrupt\u001b[0m                         Traceback (most recent call last)",
      "\u001b[1;32m<ipython-input-26-bc094bc758c8>\u001b[0m in \u001b[0;36m<module>\u001b[1;34m()\u001b[0m\n\u001b[0;32m      1\u001b[0m \u001b[1;32mwhile\u001b[0m \u001b[1;32mTrue\u001b[0m\u001b[1;33m:\u001b[0m\u001b[1;33m\u001b[0m\u001b[1;33m\u001b[0m\u001b[0m\n\u001b[0;32m      2\u001b[0m     \u001b[0mprint\u001b[0m \u001b[1;33m(\u001b[0m\u001b[1;34m\"Enter a sentence\"\u001b[0m\u001b[1;33m)\u001b[0m\u001b[1;33m\u001b[0m\u001b[1;33m\u001b[0m\u001b[0m\n\u001b[1;32m----> 3\u001b[1;33m     \u001b[0msentence\u001b[0m \u001b[1;33m=\u001b[0m \u001b[0minput\u001b[0m\u001b[1;33m(\u001b[0m\u001b[1;33m)\u001b[0m\u001b[1;33m\u001b[0m\u001b[1;33m\u001b[0m\u001b[0m\n\u001b[0m\u001b[0;32m      4\u001b[0m     \u001b[0mprediction\u001b[0m\u001b[1;33m=\u001b[0m \u001b[0mmodel\u001b[0m\u001b[1;33m.\u001b[0m\u001b[0mpredict\u001b[0m\u001b[1;33m(\u001b[0m\u001b[0mnp\u001b[0m\u001b[1;33m.\u001b[0m\u001b[0marray\u001b[0m\u001b[1;33m(\u001b[0m\u001b[1;33m[\u001b[0m\u001b[0mencode_sentence\u001b[0m\u001b[1;33m(\u001b[0m\u001b[0msentence\u001b[0m\u001b[1;33m)\u001b[0m\u001b[1;33m]\u001b[0m\u001b[1;33m)\u001b[0m\u001b[1;33m)\u001b[0m\u001b[1;33m\u001b[0m\u001b[1;33m\u001b[0m\u001b[0m\n\u001b[0;32m      5\u001b[0m     \u001b[0mprint\u001b[0m \u001b[1;33m(\u001b[0m\u001b[0mclasses\u001b[0m\u001b[1;33m[\u001b[0m\u001b[0margmax\u001b[0m\u001b[1;33m(\u001b[0m\u001b[0mprediction\u001b[0m\u001b[1;33m)\u001b[0m\u001b[1;33m]\u001b[0m\u001b[1;33m)\u001b[0m\u001b[1;33m\u001b[0m\u001b[1;33m\u001b[0m\u001b[0m\n",
      "\u001b[1;32mC:\\ProgramData\\Anaconda3\\envs\\data_idp3e\\lib\\site-packages\\ipykernel\\kernelbase.py\u001b[0m in \u001b[0;36mraw_input\u001b[1;34m(self, prompt)\u001b[0m\n\u001b[0;32m    703\u001b[0m             \u001b[0mself\u001b[0m\u001b[1;33m.\u001b[0m\u001b[0m_parent_ident\u001b[0m\u001b[1;33m,\u001b[0m\u001b[1;33m\u001b[0m\u001b[1;33m\u001b[0m\u001b[0m\n\u001b[0;32m    704\u001b[0m             \u001b[0mself\u001b[0m\u001b[1;33m.\u001b[0m\u001b[0m_parent_header\u001b[0m\u001b[1;33m,\u001b[0m\u001b[1;33m\u001b[0m\u001b[1;33m\u001b[0m\u001b[0m\n\u001b[1;32m--> 705\u001b[1;33m             \u001b[0mpassword\u001b[0m\u001b[1;33m=\u001b[0m\u001b[1;32mFalse\u001b[0m\u001b[1;33m,\u001b[0m\u001b[1;33m\u001b[0m\u001b[1;33m\u001b[0m\u001b[0m\n\u001b[0m\u001b[0;32m    706\u001b[0m         )\n\u001b[0;32m    707\u001b[0m \u001b[1;33m\u001b[0m\u001b[0m\n",
      "\u001b[1;32mC:\\ProgramData\\Anaconda3\\envs\\data_idp3e\\lib\\site-packages\\ipykernel\\kernelbase.py\u001b[0m in \u001b[0;36m_input_request\u001b[1;34m(self, prompt, ident, parent, password)\u001b[0m\n\u001b[0;32m    733\u001b[0m             \u001b[1;32mexcept\u001b[0m \u001b[0mKeyboardInterrupt\u001b[0m\u001b[1;33m:\u001b[0m\u001b[1;33m\u001b[0m\u001b[1;33m\u001b[0m\u001b[0m\n\u001b[0;32m    734\u001b[0m                 \u001b[1;31m# re-raise KeyboardInterrupt, to truncate traceback\u001b[0m\u001b[1;33m\u001b[0m\u001b[1;33m\u001b[0m\u001b[1;33m\u001b[0m\u001b[0m\n\u001b[1;32m--> 735\u001b[1;33m                 \u001b[1;32mraise\u001b[0m \u001b[0mKeyboardInterrupt\u001b[0m\u001b[1;33m\u001b[0m\u001b[1;33m\u001b[0m\u001b[0m\n\u001b[0m\u001b[0;32m    736\u001b[0m             \u001b[1;32melse\u001b[0m\u001b[1;33m:\u001b[0m\u001b[1;33m\u001b[0m\u001b[1;33m\u001b[0m\u001b[0m\n\u001b[0;32m    737\u001b[0m                 \u001b[1;32mbreak\u001b[0m\u001b[1;33m\u001b[0m\u001b[1;33m\u001b[0m\u001b[0m\n",
      "\u001b[1;31mKeyboardInterrupt\u001b[0m: "
     ]
    }
   ],
   "source": [
    "while True:\n",
    "    print (\"Enter a sentence\")\n",
    "    sentence = input()\n",
    "    prediction= model.predict(np.array([encode_sentence(sentence)]))\n",
    "    print (classes[argmax(prediction)])"
   ]
  },
  {
   "cell_type": "markdown",
   "metadata": {},
   "source": [
    "Realize that you can't stop the chatbot? You'll have to add the exit command later (see the previous notebook to find out how to do it. \n",
    "\n",
    "For now, simply press the stop button (interrupt button) above to stop the chatbot. \n",
    "\n",
    "Try it! press the stop button, and try typing something onto the box. "
   ]
  },
  {
   "cell_type": "markdown",
   "metadata": {},
   "source": [
    "# Challenge\n",
    "\n",
    "We have successfully use neural network to map our input to conversation intent. \n",
    "Your challenge is to link the conversation intent to a particular response that the chatbot will say. \n",
    "For example, if the conversation intent is 'greeting', get your chatbot to say a greeting as well!"
   ]
  },
  {
   "cell_type": "code",
   "execution_count": null,
   "metadata": {},
   "outputs": [
    {
     "name": "stdout",
     "output_type": "stream",
     "text": [
      "Enter a sentence\n",
      "hi\n",
      "Hi!\n",
      "Enter a sentence\n",
      "busy\n",
      "all the best!\n",
      "Enter a sentence\n",
      "bye\n",
      "all the best!\n",
      "Enter a sentence\n",
      "goodbye\n",
      "Goodbye! See you next time!\n",
      "Enter a sentence\n",
      "ciao\n",
      "all the best!\n",
      "Enter a sentence\n",
      "osdagno\n",
      "all the best!\n",
      "Enter a sentence\n",
      "you are fine man\n",
      "Hi!\n",
      "Enter a sentence\n"
     ]
    }
   ],
   "source": [
    "# your code here"
   ]
  },
  {
   "cell_type": "markdown",
   "metadata": {},
   "source": [
    "### Great job! You've successfully created a simple chatbot with neural network! How might you improve the chatbot?\n",
    "You can improve the chatbot by:\n",
    "- Adding more training data\n",
    "- Adding more intent\n",
    "- Focusing on a particular topic and train the chatbot with many training data in that topic"
   ]
  },
  {
   "cell_type": "markdown",
   "metadata": {},
   "source": [
    "### Resource:\n",
    "https://blog.eduonix.com/internet-of-things/simple-nlp-based-chatbot-python/"
   ]
  }
 ],
 "metadata": {
  "kernelspec": {
   "display_name": "Python 3",
   "language": "python",
   "name": "python3"
  },
  "language_info": {
   "codemirror_mode": {
    "name": "ipython",
    "version": 3
   },
   "file_extension": ".py",
   "mimetype": "text/x-python",
   "name": "python",
   "nbconvert_exporter": "python",
   "pygments_lexer": "ipython3",
   "version": "3.6.7"
  }
 },
 "nbformat": 4,
 "nbformat_minor": 2
}
